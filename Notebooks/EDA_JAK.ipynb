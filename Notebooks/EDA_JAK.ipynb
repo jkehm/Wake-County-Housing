{
 "cells": [
  {
   "cell_type": "code",
   "execution_count": 1,
   "id": "0176a0bb",
   "metadata": {},
   "outputs": [],
   "source": [
    "# Import our dependencies\n",
    "from sklearn.model_selection import train_test_split\n",
    "from sklearn.preprocessing import StandardScaler,OneHotEncoder\n",
    "from sklearn.metrics import accuracy_score\n",
    "from sklearn.svm import SVC\n",
    "import pandas as pd\n",
    "import tensorflow as tf"
   ]
  },
  {
   "cell_type": "code",
   "execution_count": null,
   "id": "95a455f0",
   "metadata": {},
   "outputs": [],
   "source": [
    "# Import our input dataset\n",
    "read_file = pd.read_excel (\"C:/Users/Admin/group9/Resources/RealEstData05132023.xlsx\")\n",
    "read_file.to_csv (\"C:/Users/Admin/group9/Resources/RealEstData05132023.csv\", \n",
    "                  index=None,\n",
    "                  header=True)\n",
    "\n",
    "wake_df = pd.DataFrame(pd.read_csv(\"C:/Users/Admin/group9/Resources/RealEstData05132023.csv\"))\n",
    "wake_df.head(10)"
   ]
  },
  {
   "cell_type": "code",
   "execution_count": null,
   "id": "047056ae",
   "metadata": {},
   "outputs": [],
   "source": [
    "# Export just the head(10) of our data as a reference on our ReadMe.md\n",
    "wake_head_df = wake_df.head(10)\n",
    "wake_head_df.to_csv(r'C:/Users/Admin/group9/Resources/wake_head_df.csv', index = False, header=True)"
   ]
  },
  {
   "cell_type": "code",
   "execution_count": null,
   "id": "c360ffe8",
   "metadata": {},
   "outputs": [],
   "source": [
    "# Seeing how many null values we have\n",
    "wake_df.isnull().sum()"
   ]
  },
  {
   "cell_type": "code",
   "execution_count": null,
   "id": "8393d0ed",
   "metadata": {},
   "outputs": [],
   "source": [
    "# Drop all columns that aren't relevant\n",
    "cleaner_wake_df = wake_df[['REAL_ESTATE_ID', 'Township','Deeded_Acreage', 'Total_sale_Price', 'Total_Sale_Date' \n",
    "                           ,'Assessed_Building_Value', 'Assessed_Land_Value', 'Year_Built', 'NUM_of_Rooms','HEATED_AREA', \n",
    "                           'BATH','Story_Height','TYPE_AND_USE', 'PHYSICAL_CITY','PHYSICAL_ZIP_CODE']]\n",
    "cleaner_wake_df.head()\n",
    "# Export just cleaner_wake_df\n",
    "cleaner_wake_df.to_csv(r'C:/Users/Admin/group9/Resources/cleaner_wake_df.csv', index = False, header=True)"
   ]
  },
  {
   "cell_type": "code",
   "execution_count": null,
   "id": "4afa5205",
   "metadata": {},
   "outputs": [],
   "source": [
    "# Seeing how many null values we have\n",
    "cleaner_wake_df.isnull().sum()"
   ]
  },
  {
   "cell_type": "code",
   "execution_count": null,
   "id": "cbcdf55a",
   "metadata": {},
   "outputs": [],
   "source": [
    "# Checking datatypes\n",
    "cleaner_wake_df.dtypes"
   ]
  },
  {
   "cell_type": "code",
   "execution_count": null,
   "id": "151e23a1",
   "metadata": {},
   "outputs": [],
   "source": [
    "# Seeing if we will have enough data using only single Family residential type\n",
    "single_family_df = cleaner_wake_df.drop(cleaner_wake_df[cleaner_wake_df['TYPE_AND_USE'] != 1].index, inplace = True)\n",
    "single_family_df.head(10)"
   ]
  },
  {
   "cell_type": "code",
   "execution_count": null,
   "id": "beb91412",
   "metadata": {},
   "outputs": [],
   "source": [
    "# Change float64 values where we don't need decimals to int64\n",
    "cleaner_wake_df.TYPE_AND_USE = cleaner_wake_df.TYPE_AND_USE.astype('int')\n",
    "cleaner_wake_df.PHYSICAL_ZIP_CODE = cleaner_wake_df.PHYSICAL_ZIP_CODE.astype('int')"
   ]
  },
  {
   "cell_type": "code",
   "execution_count": null,
   "id": "cfc7eab9",
   "metadata": {},
   "outputs": [],
   "source": []
  }
 ],
 "metadata": {
  "kernelspec": {
   "display_name": "Python 3 (ipykernel)",
   "language": "python",
   "name": "python3"
  },
  "language_info": {
   "codemirror_mode": {
    "name": "ipython",
    "version": 3
   },
   "file_extension": ".py",
   "mimetype": "text/x-python",
   "name": "python",
   "nbconvert_exporter": "python",
   "pygments_lexer": "ipython3",
   "version": "3.7.13"
  }
 },
 "nbformat": 4,
 "nbformat_minor": 5
}
