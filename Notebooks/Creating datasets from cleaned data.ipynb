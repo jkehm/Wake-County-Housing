{
 "cells": [
  {
   "cell_type": "code",
   "execution_count": 1,
   "id": "1aa69a97",
   "metadata": {},
   "outputs": [],
   "source": [
    "# Import our dependencies\n",
    "from sklearn.model_selection import train_test_split\n",
    "from sklearn.preprocessing import StandardScaler,OneHotEncoder\n",
    "from sklearn.metrics import accuracy_score\n",
    "from sklearn.svm import SVC\n",
    "import pandas as pd\n",
    "import tensorflow as tf"
   ]
  },
  {
   "cell_type": "code",
   "execution_count": 3,
   "id": "fcaa0a47",
   "metadata": {},
   "outputs": [
    {
     "data": {
      "text/html": [
       "<div>\n",
       "<style scoped>\n",
       "    .dataframe tbody tr th:only-of-type {\n",
       "        vertical-align: middle;\n",
       "    }\n",
       "\n",
       "    .dataframe tbody tr th {\n",
       "        vertical-align: top;\n",
       "    }\n",
       "\n",
       "    .dataframe thead th {\n",
       "        text-align: right;\n",
       "    }\n",
       "</style>\n",
       "<table border=\"1\" class=\"dataframe\">\n",
       "  <thead>\n",
       "    <tr style=\"text-align: right;\">\n",
       "      <th></th>\n",
       "      <th>REAL_ESTATE_ID</th>\n",
       "      <th>Township</th>\n",
       "      <th>Deeded_Acreage</th>\n",
       "      <th>Total_sale_Price</th>\n",
       "      <th>Year_Built</th>\n",
       "      <th>HEATED_AREA</th>\n",
       "      <th>DESIGN_STYLE</th>\n",
       "      <th>BATH</th>\n",
       "      <th>Story_Height</th>\n",
       "      <th>PHYSICAL_CITY</th>\n",
       "      <th>PHYSICAL_ZIP_CODE</th>\n",
       "      <th>year</th>\n",
       "      <th>month</th>\n",
       "      <th>Quarter</th>\n",
       "    </tr>\n",
       "  </thead>\n",
       "  <tbody>\n",
       "    <tr>\n",
       "      <th>0</th>\n",
       "      <td>19</td>\n",
       "      <td>1</td>\n",
       "      <td>0.21</td>\n",
       "      <td>34500</td>\n",
       "      <td>1964</td>\n",
       "      <td>1828</td>\n",
       "      <td>I</td>\n",
       "      <td>C</td>\n",
       "      <td>A</td>\n",
       "      <td>RALEIGH</td>\n",
       "      <td>27610.0</td>\n",
       "      <td>1974</td>\n",
       "      <td>1</td>\n",
       "      <td>1</td>\n",
       "    </tr>\n",
       "    <tr>\n",
       "      <th>1</th>\n",
       "      <td>20</td>\n",
       "      <td>16</td>\n",
       "      <td>0.46</td>\n",
       "      <td>35500</td>\n",
       "      <td>1970</td>\n",
       "      <td>1240</td>\n",
       "      <td>A</td>\n",
       "      <td>A</td>\n",
       "      <td>A</td>\n",
       "      <td>RALEIGH</td>\n",
       "      <td>27610.0</td>\n",
       "      <td>1983</td>\n",
       "      <td>5</td>\n",
       "      <td>2</td>\n",
       "    </tr>\n",
       "    <tr>\n",
       "      <th>2</th>\n",
       "      <td>22</td>\n",
       "      <td>10</td>\n",
       "      <td>0.46</td>\n",
       "      <td>37500</td>\n",
       "      <td>1900</td>\n",
       "      <td>2261</td>\n",
       "      <td>A</td>\n",
       "      <td>C</td>\n",
       "      <td>A</td>\n",
       "      <td>WENDELL</td>\n",
       "      <td>27591.0</td>\n",
       "      <td>2004</td>\n",
       "      <td>9</td>\n",
       "      <td>3</td>\n",
       "    </tr>\n",
       "    <tr>\n",
       "      <th>3</th>\n",
       "      <td>25</td>\n",
       "      <td>8</td>\n",
       "      <td>0.96</td>\n",
       "      <td>70000</td>\n",
       "      <td>1971</td>\n",
       "      <td>3770</td>\n",
       "      <td>A</td>\n",
       "      <td>J</td>\n",
       "      <td>A</td>\n",
       "      <td>RALEIGH</td>\n",
       "      <td>27613.0</td>\n",
       "      <td>1971</td>\n",
       "      <td>1</td>\n",
       "      <td>1</td>\n",
       "    </tr>\n",
       "    <tr>\n",
       "      <th>4</th>\n",
       "      <td>30</td>\n",
       "      <td>1</td>\n",
       "      <td>0.47</td>\n",
       "      <td>380000</td>\n",
       "      <td>1946</td>\n",
       "      <td>1789</td>\n",
       "      <td>A</td>\n",
       "      <td>C</td>\n",
       "      <td>A</td>\n",
       "      <td>RALEIGH</td>\n",
       "      <td>27607.0</td>\n",
       "      <td>2015</td>\n",
       "      <td>8</td>\n",
       "      <td>3</td>\n",
       "    </tr>\n",
       "  </tbody>\n",
       "</table>\n",
       "</div>"
      ],
      "text/plain": [
       "   REAL_ESTATE_ID  Township  Deeded_Acreage  Total_sale_Price  Year_Built  \\\n",
       "0              19         1            0.21             34500        1964   \n",
       "1              20        16            0.46             35500        1970   \n",
       "2              22        10            0.46             37500        1900   \n",
       "3              25         8            0.96             70000        1971   \n",
       "4              30         1            0.47            380000        1946   \n",
       "\n",
       "   HEATED_AREA DESIGN_STYLE BATH Story_Height PHYSICAL_CITY  \\\n",
       "0         1828            I    C            A       RALEIGH   \n",
       "1         1240            A    A            A       RALEIGH   \n",
       "2         2261            A    C            A       WENDELL   \n",
       "3         3770            A    J            A       RALEIGH   \n",
       "4         1789            A    C            A       RALEIGH   \n",
       "\n",
       "   PHYSICAL_ZIP_CODE  year  month  Quarter  \n",
       "0            27610.0  1974      1        1  \n",
       "1            27610.0  1983      5        2  \n",
       "2            27591.0  2004      9        3  \n",
       "3            27613.0  1971      1        1  \n",
       "4            27607.0  2015      8        3  "
      ]
     },
     "execution_count": 3,
     "metadata": {},
     "output_type": "execute_result"
    }
   ],
   "source": [
    "# Import csv\n",
    "df = pd.read_csv('C:/Users/Admin/group9/Resources/cleaned_wake_df.csv')\n",
    "df.head()"
   ]
  },
  {
   "cell_type": "code",
   "execution_count": 4,
   "id": "60fb0608",
   "metadata": {},
   "outputs": [
    {
     "data": {
      "text/html": [
       "<div>\n",
       "<style scoped>\n",
       "    .dataframe tbody tr th:only-of-type {\n",
       "        vertical-align: middle;\n",
       "    }\n",
       "\n",
       "    .dataframe tbody tr th {\n",
       "        vertical-align: top;\n",
       "    }\n",
       "\n",
       "    .dataframe thead th {\n",
       "        text-align: right;\n",
       "    }\n",
       "</style>\n",
       "<table border=\"1\" class=\"dataframe\">\n",
       "  <thead>\n",
       "    <tr style=\"text-align: right;\">\n",
       "      <th></th>\n",
       "      <th>REAL_ESTATE_ID</th>\n",
       "      <th>Township</th>\n",
       "      <th>Deeded_Acreage</th>\n",
       "      <th>Total_sale_Price</th>\n",
       "      <th>Year_Built</th>\n",
       "      <th>HEATED_AREA</th>\n",
       "      <th>DESIGN_STYLE</th>\n",
       "      <th>BATH</th>\n",
       "      <th>Story_Height</th>\n",
       "      <th>PHYSICAL_CITY</th>\n",
       "      <th>PHYSICAL_ZIP_CODE</th>\n",
       "      <th>year</th>\n",
       "      <th>month</th>\n",
       "      <th>Quarter</th>\n",
       "    </tr>\n",
       "  </thead>\n",
       "  <tbody>\n",
       "    <tr>\n",
       "      <th>4</th>\n",
       "      <td>30</td>\n",
       "      <td>1</td>\n",
       "      <td>0.47</td>\n",
       "      <td>380000</td>\n",
       "      <td>1946</td>\n",
       "      <td>1789</td>\n",
       "      <td>A</td>\n",
       "      <td>C</td>\n",
       "      <td>A</td>\n",
       "      <td>RALEIGH</td>\n",
       "      <td>27607.0</td>\n",
       "      <td>2015</td>\n",
       "      <td>8</td>\n",
       "      <td>3</td>\n",
       "    </tr>\n",
       "    <tr>\n",
       "      <th>10</th>\n",
       "      <td>38</td>\n",
       "      <td>1</td>\n",
       "      <td>0.17</td>\n",
       "      <td>364000</td>\n",
       "      <td>1931</td>\n",
       "      <td>1500</td>\n",
       "      <td>A</td>\n",
       "      <td>B</td>\n",
       "      <td>J</td>\n",
       "      <td>RALEIGH</td>\n",
       "      <td>27608.0</td>\n",
       "      <td>2014</td>\n",
       "      <td>12</td>\n",
       "      <td>4</td>\n",
       "    </tr>\n",
       "    <tr>\n",
       "      <th>14</th>\n",
       "      <td>42</td>\n",
       "      <td>1</td>\n",
       "      <td>0.17</td>\n",
       "      <td>395000</td>\n",
       "      <td>1946</td>\n",
       "      <td>1212</td>\n",
       "      <td>A</td>\n",
       "      <td>C</td>\n",
       "      <td>A</td>\n",
       "      <td>RALEIGH</td>\n",
       "      <td>27608.0</td>\n",
       "      <td>2017</td>\n",
       "      <td>1</td>\n",
       "      <td>1</td>\n",
       "    </tr>\n",
       "    <tr>\n",
       "      <th>20</th>\n",
       "      <td>51</td>\n",
       "      <td>17</td>\n",
       "      <td>0.53</td>\n",
       "      <td>118000</td>\n",
       "      <td>1958</td>\n",
       "      <td>1560</td>\n",
       "      <td>A</td>\n",
       "      <td>C</td>\n",
       "      <td>A</td>\n",
       "      <td>KNIGHTDALE</td>\n",
       "      <td>27545.0</td>\n",
       "      <td>2015</td>\n",
       "      <td>8</td>\n",
       "      <td>3</td>\n",
       "    </tr>\n",
       "    <tr>\n",
       "      <th>21</th>\n",
       "      <td>52</td>\n",
       "      <td>12</td>\n",
       "      <td>0.13</td>\n",
       "      <td>202000</td>\n",
       "      <td>1948</td>\n",
       "      <td>1671</td>\n",
       "      <td>A</td>\n",
       "      <td>C</td>\n",
       "      <td>B</td>\n",
       "      <td>FUQUAY VARINA</td>\n",
       "      <td>27526.0</td>\n",
       "      <td>2016</td>\n",
       "      <td>9</td>\n",
       "      <td>3</td>\n",
       "    </tr>\n",
       "  </tbody>\n",
       "</table>\n",
       "</div>"
      ],
      "text/plain": [
       "    REAL_ESTATE_ID  Township  Deeded_Acreage  Total_sale_Price  Year_Built  \\\n",
       "4               30         1            0.47            380000        1946   \n",
       "10              38         1            0.17            364000        1931   \n",
       "14              42         1            0.17            395000        1946   \n",
       "20              51        17            0.53            118000        1958   \n",
       "21              52        12            0.13            202000        1948   \n",
       "\n",
       "    HEATED_AREA DESIGN_STYLE BATH Story_Height  PHYSICAL_CITY  \\\n",
       "4          1789            A    C            A        RALEIGH   \n",
       "10         1500            A    B            J        RALEIGH   \n",
       "14         1212            A    C            A        RALEIGH   \n",
       "20         1560            A    C            A     KNIGHTDALE   \n",
       "21         1671            A    C            B  FUQUAY VARINA   \n",
       "\n",
       "    PHYSICAL_ZIP_CODE  year  month  Quarter  \n",
       "4             27607.0  2015      8        3  \n",
       "10            27608.0  2014     12        4  \n",
       "14            27608.0  2017      1        1  \n",
       "20            27545.0  2015      8        3  \n",
       "21            27526.0  2016      9        3  "
      ]
     },
     "execution_count": 4,
     "metadata": {},
     "output_type": "execute_result"
    }
   ],
   "source": [
    "# Creating new 'last decade' df\n",
    "last_decade_df = df.loc[(df['year'] >= 2012)]\n",
    "last_decade_df.head()"
   ]
  },
  {
   "cell_type": "code",
   "execution_count": 9,
   "id": "50a91ee0",
   "metadata": {},
   "outputs": [
    {
     "data": {
      "text/plain": [
       "2012"
      ]
     },
     "execution_count": 9,
     "metadata": {},
     "output_type": "execute_result"
    }
   ],
   "source": [
    "# Checking to make sure max and min years are what we want\n",
    "last_decade_df['year'].min()"
   ]
  },
  {
   "cell_type": "code",
   "execution_count": 10,
   "id": "89cbb8fc",
   "metadata": {},
   "outputs": [
    {
     "data": {
      "text/plain": [
       "2023"
      ]
     },
     "execution_count": 10,
     "metadata": {},
     "output_type": "execute_result"
    }
   ],
   "source": [
    "# Checking to make sure max and min years are what we want\n",
    "last_decade_df['year'].max()"
   ]
  },
  {
   "cell_type": "code",
   "execution_count": 12,
   "id": "b01611dd",
   "metadata": {},
   "outputs": [
    {
     "data": {
      "text/plain": [
       "(197554, 14)"
      ]
     },
     "execution_count": 12,
     "metadata": {},
     "output_type": "execute_result"
    }
   ],
   "source": [
    "# Checking to see if there is enough data to continue with this dataset\n",
    "last_decade_df.shape"
   ]
  },
  {
   "cell_type": "code",
   "execution_count": 13,
   "id": "e1dd3932",
   "metadata": {},
   "outputs": [
    {
     "data": {
      "text/html": [
       "<div>\n",
       "<style scoped>\n",
       "    .dataframe tbody tr th:only-of-type {\n",
       "        vertical-align: middle;\n",
       "    }\n",
       "\n",
       "    .dataframe tbody tr th {\n",
       "        vertical-align: top;\n",
       "    }\n",
       "\n",
       "    .dataframe thead th {\n",
       "        text-align: right;\n",
       "    }\n",
       "</style>\n",
       "<table border=\"1\" class=\"dataframe\">\n",
       "  <thead>\n",
       "    <tr style=\"text-align: right;\">\n",
       "      <th></th>\n",
       "      <th>REAL_ESTATE_ID</th>\n",
       "      <th>Township</th>\n",
       "      <th>Deeded_Acreage</th>\n",
       "      <th>Total_sale_Price</th>\n",
       "      <th>Year_Built</th>\n",
       "      <th>HEATED_AREA</th>\n",
       "      <th>DESIGN_STYLE</th>\n",
       "      <th>BATH</th>\n",
       "      <th>Story_Height</th>\n",
       "      <th>PHYSICAL_CITY</th>\n",
       "      <th>PHYSICAL_ZIP_CODE</th>\n",
       "      <th>year</th>\n",
       "      <th>month</th>\n",
       "      <th>Quarter</th>\n",
       "    </tr>\n",
       "  </thead>\n",
       "  <tbody>\n",
       "    <tr>\n",
       "      <th>4</th>\n",
       "      <td>30</td>\n",
       "      <td>1</td>\n",
       "      <td>0.47</td>\n",
       "      <td>380000</td>\n",
       "      <td>1946</td>\n",
       "      <td>1789</td>\n",
       "      <td>A</td>\n",
       "      <td>C</td>\n",
       "      <td>A</td>\n",
       "      <td>RALEIGH</td>\n",
       "      <td>27607.0</td>\n",
       "      <td>2015</td>\n",
       "      <td>8</td>\n",
       "      <td>3</td>\n",
       "    </tr>\n",
       "    <tr>\n",
       "      <th>10</th>\n",
       "      <td>38</td>\n",
       "      <td>1</td>\n",
       "      <td>0.17</td>\n",
       "      <td>364000</td>\n",
       "      <td>1931</td>\n",
       "      <td>1500</td>\n",
       "      <td>A</td>\n",
       "      <td>B</td>\n",
       "      <td>J</td>\n",
       "      <td>RALEIGH</td>\n",
       "      <td>27608.0</td>\n",
       "      <td>2014</td>\n",
       "      <td>12</td>\n",
       "      <td>4</td>\n",
       "    </tr>\n",
       "    <tr>\n",
       "      <th>14</th>\n",
       "      <td>42</td>\n",
       "      <td>1</td>\n",
       "      <td>0.17</td>\n",
       "      <td>395000</td>\n",
       "      <td>1946</td>\n",
       "      <td>1212</td>\n",
       "      <td>A</td>\n",
       "      <td>C</td>\n",
       "      <td>A</td>\n",
       "      <td>RALEIGH</td>\n",
       "      <td>27608.0</td>\n",
       "      <td>2017</td>\n",
       "      <td>1</td>\n",
       "      <td>1</td>\n",
       "    </tr>\n",
       "    <tr>\n",
       "      <th>20</th>\n",
       "      <td>51</td>\n",
       "      <td>17</td>\n",
       "      <td>0.53</td>\n",
       "      <td>118000</td>\n",
       "      <td>1958</td>\n",
       "      <td>1560</td>\n",
       "      <td>A</td>\n",
       "      <td>C</td>\n",
       "      <td>A</td>\n",
       "      <td>KNIGHTDALE</td>\n",
       "      <td>27545.0</td>\n",
       "      <td>2015</td>\n",
       "      <td>8</td>\n",
       "      <td>3</td>\n",
       "    </tr>\n",
       "    <tr>\n",
       "      <th>21</th>\n",
       "      <td>52</td>\n",
       "      <td>12</td>\n",
       "      <td>0.13</td>\n",
       "      <td>202000</td>\n",
       "      <td>1948</td>\n",
       "      <td>1671</td>\n",
       "      <td>A</td>\n",
       "      <td>C</td>\n",
       "      <td>B</td>\n",
       "      <td>FUQUAY VARINA</td>\n",
       "      <td>27526.0</td>\n",
       "      <td>2016</td>\n",
       "      <td>9</td>\n",
       "      <td>3</td>\n",
       "    </tr>\n",
       "  </tbody>\n",
       "</table>\n",
       "</div>"
      ],
      "text/plain": [
       "    REAL_ESTATE_ID  Township  Deeded_Acreage  Total_sale_Price  Year_Built  \\\n",
       "4               30         1            0.47            380000        1946   \n",
       "10              38         1            0.17            364000        1931   \n",
       "14              42         1            0.17            395000        1946   \n",
       "20              51        17            0.53            118000        1958   \n",
       "21              52        12            0.13            202000        1948   \n",
       "\n",
       "    HEATED_AREA DESIGN_STYLE BATH Story_Height  PHYSICAL_CITY  \\\n",
       "4          1789            A    C            A        RALEIGH   \n",
       "10         1500            A    B            J        RALEIGH   \n",
       "14         1212            A    C            A        RALEIGH   \n",
       "20         1560            A    C            A     KNIGHTDALE   \n",
       "21         1671            A    C            B  FUQUAY VARINA   \n",
       "\n",
       "    PHYSICAL_ZIP_CODE  year  month  Quarter  \n",
       "4             27607.0  2015      8        3  \n",
       "10            27608.0  2014     12        4  \n",
       "14            27608.0  2017      1        1  \n",
       "20            27545.0  2015      8        3  \n",
       "21            27526.0  2016      9        3  "
      ]
     },
     "execution_count": 13,
     "metadata": {},
     "output_type": "execute_result"
    }
   ],
   "source": [
    "# Creating 2010's df\n",
    "df_2010s = df.loc[(df['year'] >= 2010)\n",
    "                 & (df['year'] < 2020)]\n",
    "df_2010s.head()"
   ]
  },
  {
   "cell_type": "code",
   "execution_count": 14,
   "id": "6d22e039",
   "metadata": {},
   "outputs": [
    {
     "data": {
      "text/plain": [
       "2010"
      ]
     },
     "execution_count": 14,
     "metadata": {},
     "output_type": "execute_result"
    }
   ],
   "source": [
    "# Checking to make sure max and min years are what we want\n",
    "df_2010s['year'].min()"
   ]
  },
  {
   "cell_type": "code",
   "execution_count": 15,
   "id": "81944e86",
   "metadata": {},
   "outputs": [
    {
     "data": {
      "text/plain": [
       "2019"
      ]
     },
     "execution_count": 15,
     "metadata": {},
     "output_type": "execute_result"
    }
   ],
   "source": [
    "# Checking to make sure max and min years are what we want\n",
    "df_2010s['year'].max()"
   ]
  },
  {
   "cell_type": "code",
   "execution_count": 16,
   "id": "4ef38f00",
   "metadata": {},
   "outputs": [
    {
     "data": {
      "text/plain": [
       "(129241, 14)"
      ]
     },
     "execution_count": 16,
     "metadata": {},
     "output_type": "execute_result"
    }
   ],
   "source": [
    "# Checking to see if there is enough data to continue with this dataset\n",
    "df_2010s.shape"
   ]
  },
  {
   "cell_type": "code",
   "execution_count": 17,
   "id": "7ce7ade7",
   "metadata": {},
   "outputs": [
    {
     "data": {
      "text/html": [
       "<div>\n",
       "<style scoped>\n",
       "    .dataframe tbody tr th:only-of-type {\n",
       "        vertical-align: middle;\n",
       "    }\n",
       "\n",
       "    .dataframe tbody tr th {\n",
       "        vertical-align: top;\n",
       "    }\n",
       "\n",
       "    .dataframe thead th {\n",
       "        text-align: right;\n",
       "    }\n",
       "</style>\n",
       "<table border=\"1\" class=\"dataframe\">\n",
       "  <thead>\n",
       "    <tr style=\"text-align: right;\">\n",
       "      <th></th>\n",
       "      <th>REAL_ESTATE_ID</th>\n",
       "      <th>Township</th>\n",
       "      <th>Deeded_Acreage</th>\n",
       "      <th>Total_sale_Price</th>\n",
       "      <th>Year_Built</th>\n",
       "      <th>HEATED_AREA</th>\n",
       "      <th>DESIGN_STYLE</th>\n",
       "      <th>BATH</th>\n",
       "      <th>Story_Height</th>\n",
       "      <th>PHYSICAL_CITY</th>\n",
       "      <th>PHYSICAL_ZIP_CODE</th>\n",
       "      <th>year</th>\n",
       "      <th>month</th>\n",
       "      <th>Quarter</th>\n",
       "    </tr>\n",
       "  </thead>\n",
       "  <tbody>\n",
       "    <tr>\n",
       "      <th>23</th>\n",
       "      <td>58</td>\n",
       "      <td>1</td>\n",
       "      <td>0.19</td>\n",
       "      <td>975000</td>\n",
       "      <td>1929</td>\n",
       "      <td>2316</td>\n",
       "      <td>A</td>\n",
       "      <td>F</td>\n",
       "      <td>C</td>\n",
       "      <td>RALEIGH</td>\n",
       "      <td>27608.0</td>\n",
       "      <td>2021</td>\n",
       "      <td>12</td>\n",
       "      <td>4</td>\n",
       "    </tr>\n",
       "    <tr>\n",
       "      <th>26</th>\n",
       "      <td>62</td>\n",
       "      <td>1</td>\n",
       "      <td>0.15</td>\n",
       "      <td>350000</td>\n",
       "      <td>1949</td>\n",
       "      <td>1020</td>\n",
       "      <td>A</td>\n",
       "      <td>C</td>\n",
       "      <td>A</td>\n",
       "      <td>RALEIGH</td>\n",
       "      <td>27604.0</td>\n",
       "      <td>2020</td>\n",
       "      <td>8</td>\n",
       "      <td>3</td>\n",
       "    </tr>\n",
       "    <tr>\n",
       "      <th>33</th>\n",
       "      <td>70</td>\n",
       "      <td>16</td>\n",
       "      <td>0.72</td>\n",
       "      <td>272000</td>\n",
       "      <td>1971</td>\n",
       "      <td>1971</td>\n",
       "      <td>A</td>\n",
       "      <td>D</td>\n",
       "      <td>A</td>\n",
       "      <td>GARNER</td>\n",
       "      <td>27529.0</td>\n",
       "      <td>2021</td>\n",
       "      <td>3</td>\n",
       "      <td>1</td>\n",
       "    </tr>\n",
       "    <tr>\n",
       "      <th>34</th>\n",
       "      <td>71</td>\n",
       "      <td>4</td>\n",
       "      <td>0.60</td>\n",
       "      <td>850000</td>\n",
       "      <td>1973</td>\n",
       "      <td>2492</td>\n",
       "      <td>I</td>\n",
       "      <td>E</td>\n",
       "      <td>A</td>\n",
       "      <td>CARY</td>\n",
       "      <td>27511.0</td>\n",
       "      <td>2022</td>\n",
       "      <td>1</td>\n",
       "      <td>1</td>\n",
       "    </tr>\n",
       "    <tr>\n",
       "      <th>40</th>\n",
       "      <td>81</td>\n",
       "      <td>4</td>\n",
       "      <td>0.30</td>\n",
       "      <td>25000</td>\n",
       "      <td>1969</td>\n",
       "      <td>2015</td>\n",
       "      <td>I</td>\n",
       "      <td>D</td>\n",
       "      <td>A</td>\n",
       "      <td>CARY</td>\n",
       "      <td>27511.0</td>\n",
       "      <td>2021</td>\n",
       "      <td>7</td>\n",
       "      <td>3</td>\n",
       "    </tr>\n",
       "  </tbody>\n",
       "</table>\n",
       "</div>"
      ],
      "text/plain": [
       "    REAL_ESTATE_ID  Township  Deeded_Acreage  Total_sale_Price  Year_Built  \\\n",
       "23              58         1            0.19            975000        1929   \n",
       "26              62         1            0.15            350000        1949   \n",
       "33              70        16            0.72            272000        1971   \n",
       "34              71         4            0.60            850000        1973   \n",
       "40              81         4            0.30             25000        1969   \n",
       "\n",
       "    HEATED_AREA DESIGN_STYLE BATH Story_Height PHYSICAL_CITY  \\\n",
       "23         2316            A    F            C       RALEIGH   \n",
       "26         1020            A    C            A       RALEIGH   \n",
       "33         1971            A    D            A        GARNER   \n",
       "34         2492            I    E            A          CARY   \n",
       "40         2015            I    D            A          CARY   \n",
       "\n",
       "    PHYSICAL_ZIP_CODE  year  month  Quarter  \n",
       "23            27608.0  2021     12        4  \n",
       "26            27604.0  2020      8        3  \n",
       "33            27529.0  2021      3        1  \n",
       "34            27511.0  2022      1        1  \n",
       "40            27511.0  2021      7        3  "
      ]
     },
     "execution_count": 17,
     "metadata": {},
     "output_type": "execute_result"
    }
   ],
   "source": [
    "# Creating 2020's df\n",
    "df_2020s = df.loc[(df['year'] >= 2020)]\n",
    "df_2020s.head()"
   ]
  },
  {
   "cell_type": "code",
   "execution_count": 18,
   "id": "563df10a",
   "metadata": {},
   "outputs": [
    {
     "data": {
      "text/plain": [
       "(79495, 14)"
      ]
     },
     "execution_count": 18,
     "metadata": {},
     "output_type": "execute_result"
    }
   ],
   "source": [
    "# Checking to see if there is enough data to continue with this dataset\n",
    "df_2020s.shape"
   ]
  },
  {
   "cell_type": "code",
   "execution_count": 19,
   "id": "4573dd34",
   "metadata": {},
   "outputs": [],
   "source": [
    "# Creating 2000's df\n",
    "df_2000s = df.loc[(df['year'] >= 2000)\n",
    "                 & (df['year'] < 2010)]"
   ]
  },
  {
   "cell_type": "code",
   "execution_count": 20,
   "id": "adaa89d0",
   "metadata": {},
   "outputs": [
    {
     "data": {
      "text/plain": [
       "(68069, 14)"
      ]
     },
     "execution_count": 20,
     "metadata": {},
     "output_type": "execute_result"
    }
   ],
   "source": [
    "# Checking to see if there is enough data to continue with this dataset\n",
    "df_2000s.shape"
   ]
  },
  {
   "cell_type": "code",
   "execution_count": 21,
   "id": "8c3ec7f3",
   "metadata": {},
   "outputs": [],
   "source": [
    "# Creating 1990's df\n",
    "df_1990s = df.loc[(df['year'] >= 1990)\n",
    "                 & (df['year'] < 2000)]"
   ]
  },
  {
   "cell_type": "code",
   "execution_count": 22,
   "id": "9e587170",
   "metadata": {},
   "outputs": [
    {
     "data": {
      "text/plain": [
       "(29622, 14)"
      ]
     },
     "execution_count": 22,
     "metadata": {},
     "output_type": "execute_result"
    }
   ],
   "source": [
    "df_1990s.shape"
   ]
  },
  {
   "cell_type": "code",
   "execution_count": 23,
   "id": "a61a2e43",
   "metadata": {},
   "outputs": [],
   "source": [
    "# Exporting all of our created csv's\n",
    "last_decade_df.to_csv(r'C:/Users/Admin/group9/Resources/last_decade_df.csv', index = False, header=True)\n",
    "df_2020s.to_csv(r'C:/Users/Admin/group9/Resources/df_2020s.csv', index = False, header=True)\n",
    "df_2010s.to_csv(r'C:/Users/Admin/group9/Resources/df_2010s.csv', index = False, header=True)\n",
    "df_2000s.to_csv(r'C:/Users/Admin/group9/Resources/df_2000s.csv', index = False, header=True)\n",
    "df_1990s.to_csv(r'C:/Users/Admin/group9/Resources/df_1990s.csv', index = False, header=True)"
   ]
  },
  {
   "cell_type": "code",
   "execution_count": null,
   "id": "9072cd1a",
   "metadata": {},
   "outputs": [],
   "source": []
  }
 ],
 "metadata": {
  "kernelspec": {
   "display_name": "mlenv",
   "language": "python",
   "name": "mlenv"
  },
  "language_info": {
   "codemirror_mode": {
    "name": "ipython",
    "version": 3
   },
   "file_extension": ".py",
   "mimetype": "text/x-python",
   "name": "python",
   "nbconvert_exporter": "python",
   "pygments_lexer": "ipython3",
   "version": "3.7.13"
  }
 },
 "nbformat": 4,
 "nbformat_minor": 5
}
